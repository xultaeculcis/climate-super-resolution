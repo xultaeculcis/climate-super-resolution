{
 "cells": [
  {
   "cell_type": "code",
   "execution_count": 2,
   "metadata": {
    "collapsed": true
   },
   "outputs": [],
   "source": [
    "import os\n",
    "from glob import glob\n",
    "\n",
    "import numpy as np\n",
    "import pandas as pd\n",
    "import rasterio as rio\n",
    "import xarray as xr\n",
    "from pre_processing.cruts_config import CRUTSConfig\n",
    "from rasterio.mask import mask\n",
    "from tqdm import tqdm"
   ]
  },
  {
   "cell_type": "code",
   "execution_count": 9,
   "outputs": [
    {
     "name": "stderr",
     "output_type": "stream",
     "text": [
      " 15%|█▌        | 221/1428 [00:01<00:08, 150.26it/s]\n"
     ]
    },
    {
     "ename": "KeyboardInterrupt",
     "evalue": "",
     "output_type": "error",
     "traceback": [
      "\u001B[0;31m---------------------------------------------------------------------------\u001B[0m",
      "\u001B[0;31mKeyboardInterrupt\u001B[0m                         Traceback (most recent call last)",
      "\u001B[0;32m<ipython-input-9-3eb78dfe2be4>\u001B[0m in \u001B[0;36m<module>\u001B[0;34m\u001B[0m\n\u001B[1;32m     67\u001B[0m                 \u001B[0mdest\u001B[0m\u001B[0;34m.\u001B[0m\u001B[0mwrite\u001B[0m\u001B[0;34m(\u001B[0m\u001B[0mcrop\u001B[0m\u001B[0;34m)\u001B[0m\u001B[0;34m\u001B[0m\u001B[0;34m\u001B[0m\u001B[0m\n\u001B[1;32m     68\u001B[0m \u001B[0;34m\u001B[0m\u001B[0m\n\u001B[0;32m---> 69\u001B[0;31m \u001B[0mextract_extent\u001B[0m\u001B[0;34m(\u001B[0m\u001B[0msrc_dir_hr\u001B[0m\u001B[0;34m,\u001B[0m \u001B[0mvariables\u001B[0m\u001B[0;34m,\u001B[0m \u001B[0mhr_polygon\u001B[0m\u001B[0;34m)\u001B[0m\u001B[0;34m\u001B[0m\u001B[0;34m\u001B[0m\u001B[0m\n\u001B[0m\u001B[1;32m     70\u001B[0m \u001B[0;34m\u001B[0m\u001B[0m\n",
      "\u001B[0;32m<ipython-input-9-3eb78dfe2be4>\u001B[0m in \u001B[0;36mextract_extent\u001B[0;34m(src_dir, variables, polygon)\u001B[0m\n\u001B[1;32m     51\u001B[0m             \u001B[0mfilename\u001B[0m \u001B[0;34m=\u001B[0m \u001B[0mos\u001B[0m\u001B[0;34m.\u001B[0m\u001B[0mpath\u001B[0m\u001B[0;34m.\u001B[0m\u001B[0mbasename\u001B[0m\u001B[0;34m(\u001B[0m\u001B[0mfp\u001B[0m\u001B[0;34m)\u001B[0m\u001B[0;34m\u001B[0m\u001B[0;34m\u001B[0m\u001B[0m\n\u001B[1;32m     52\u001B[0m \u001B[0;34m\u001B[0m\u001B[0m\n\u001B[0;32m---> 53\u001B[0;31m             \u001B[0;32mwith\u001B[0m \u001B[0mrio\u001B[0m\u001B[0;34m.\u001B[0m\u001B[0mopen\u001B[0m\u001B[0;34m(\u001B[0m\u001B[0mfp\u001B[0m\u001B[0;34m)\u001B[0m \u001B[0;32mas\u001B[0m \u001B[0mds\u001B[0m\u001B[0;34m:\u001B[0m\u001B[0;34m\u001B[0m\u001B[0;34m\u001B[0m\u001B[0m\n\u001B[0m\u001B[1;32m     54\u001B[0m                 \u001B[0mcrop\u001B[0m\u001B[0;34m,\u001B[0m \u001B[0mtransform\u001B[0m \u001B[0;34m=\u001B[0m \u001B[0mmask\u001B[0m\u001B[0;34m(\u001B[0m\u001B[0mds\u001B[0m\u001B[0;34m,\u001B[0m \u001B[0mbbox\u001B[0m\u001B[0;34m,\u001B[0m \u001B[0mcrop\u001B[0m\u001B[0;34m=\u001B[0m\u001B[0;32mTrue\u001B[0m\u001B[0;34m)\u001B[0m\u001B[0;34m\u001B[0m\u001B[0;34m\u001B[0m\u001B[0m\n\u001B[1;32m     55\u001B[0m                 \u001B[0mmeta\u001B[0m \u001B[0;34m=\u001B[0m \u001B[0mds\u001B[0m\u001B[0;34m.\u001B[0m\u001B[0mmeta\u001B[0m\u001B[0;34m\u001B[0m\u001B[0;34m\u001B[0m\u001B[0m\n",
      "\u001B[0;32m~/anaconda3/envs/sr/lib/python3.8/site-packages/rasterio/env.py\u001B[0m in \u001B[0;36mwrapper\u001B[0;34m(*args, **kwds)\u001B[0m\n\u001B[1;32m    416\u001B[0m     \u001B[0;34m@\u001B[0m\u001B[0mwraps\u001B[0m\u001B[0;34m(\u001B[0m\u001B[0mf\u001B[0m\u001B[0;34m)\u001B[0m\u001B[0;34m\u001B[0m\u001B[0;34m\u001B[0m\u001B[0m\n\u001B[1;32m    417\u001B[0m     \u001B[0;32mdef\u001B[0m \u001B[0mwrapper\u001B[0m\u001B[0;34m(\u001B[0m\u001B[0;34m*\u001B[0m\u001B[0margs\u001B[0m\u001B[0;34m,\u001B[0m \u001B[0;34m**\u001B[0m\u001B[0mkwds\u001B[0m\u001B[0;34m)\u001B[0m\u001B[0;34m:\u001B[0m\u001B[0;34m\u001B[0m\u001B[0;34m\u001B[0m\u001B[0m\n\u001B[0;32m--> 418\u001B[0;31m         \u001B[0;32mif\u001B[0m \u001B[0mlocal\u001B[0m\u001B[0;34m.\u001B[0m\u001B[0m_env\u001B[0m\u001B[0;34m:\u001B[0m\u001B[0;34m\u001B[0m\u001B[0;34m\u001B[0m\u001B[0m\n\u001B[0m\u001B[1;32m    419\u001B[0m             \u001B[0menv_ctor\u001B[0m \u001B[0;34m=\u001B[0m \u001B[0mEnv\u001B[0m\u001B[0;34m\u001B[0m\u001B[0;34m\u001B[0m\u001B[0m\n\u001B[1;32m    420\u001B[0m         \u001B[0;32melse\u001B[0m\u001B[0;34m:\u001B[0m\u001B[0;34m\u001B[0m\u001B[0;34m\u001B[0m\u001B[0m\n",
      "\u001B[0;31mKeyboardInterrupt\u001B[0m: "
     ]
    }
   ],
   "source": [
    "europe_bbox_lr = ((-16, 84), (40.25, 33))\n",
    "europe_bbox_hr = ((-16, 84.25), (40.25, 32.875))\n",
    "left_upper_lr = [-16, 84.375]\n",
    "left_lower_lr = [-16, 33.125]\n",
    "right_upper_lr = [40.25, 84.375]\n",
    "right_lower_lr = [40.25, 33.125]\n",
    "\n",
    "left_upper_hr = [-16, 84.375]\n",
    "left_lower_hr = [-16, 33]\n",
    "right_upper_hr = [40.25, 84.375]\n",
    "right_lower_hr = [40.25, 33]\n",
    "\n",
    "src_dir_lr = \"/media/xultaeculcis/2TB/datasets/cruts/pre-processed/full-res/\"\n",
    "src_dir_hr = \"/media/xultaeculcis/2TB/datasets/cruts/inference/\"\n",
    "\n",
    "lr_polygon = [\n",
    "    [\n",
    "        left_upper_lr,\n",
    "        right_upper_lr,\n",
    "        right_lower_lr,\n",
    "        left_lower_lr,\n",
    "        left_upper_lr,\n",
    "    ]\n",
    "]\n",
    "hr_polygon = [\n",
    "    [\n",
    "        left_upper_hr,\n",
    "        right_upper_hr,\n",
    "        right_lower_hr,\n",
    "        left_lower_hr,\n",
    "        left_upper_hr,\n",
    "    ]\n",
    "]\n",
    "\n",
    "out_path = \"/media/xultaeculcis/2TB/datasets/cruts/pre-processed/europe-extent\"\n",
    "variables = CRUTSConfig.variables_cts\n",
    "\n",
    "\n",
    "def extract_extent(src_dir, variables, polygon):\n",
    "    bbox = [\n",
    "        {\n",
    "            \"coordinates\": polygon,\n",
    "            \"type\": \"Polygon\",\n",
    "        }\n",
    "    ]\n",
    "\n",
    "    for var in variables:\n",
    "        files = sorted(glob(os.path.join(src_dir, var, \"*.tif\")))\n",
    "        os.makedirs(os.path.join(out_path, var), exist_ok=True)\n",
    "        for fp in tqdm(files):\n",
    "            filename = os.path.basename(fp)\n",
    "\n",
    "            with rio.open(fp) as ds:\n",
    "                crop, transform = mask(ds, bbox, crop=True)\n",
    "                meta = ds.meta\n",
    "\n",
    "            meta.update(\n",
    "                {\n",
    "                    \"driver\": \"GTiff\",\n",
    "                    \"height\": crop.shape[1],\n",
    "                    \"width\": crop.shape[2],\n",
    "                    \"transform\": transform,\n",
    "                }\n",
    "            )\n",
    "\n",
    "            with rio.open(os.path.join(out_path, var, filename), \"w\", **meta) as dest:\n",
    "                dest.write(crop)\n",
    "\n",
    "\n",
    "extract_extent(src_dir_hr, variables, hr_polygon)"
   ],
   "metadata": {
    "collapsed": false,
    "pycharm": {
     "name": "#%%\n"
    }
   }
  },
  {
   "cell_type": "code",
   "execution_count": null,
   "outputs": [],
   "source": [
    "nc_out_path = \"/media/xultaeculcis/2TB/datasets/cruts/inference-europe-extent-nc\"\n",
    "os.makedirs(nc_out_path, exist_ok=True)\n",
    "\n",
    "var_to_variable = {\n",
    "    CRUTSConfig.pre: \"Precipitation\",\n",
    "    CRUTSConfig.tmn: \"Minimum Temperature\",\n",
    "    CRUTSConfig.tmp: \"Average Temperature\",\n",
    "    CRUTSConfig.tmx: \"Maximum Temperature\",\n",
    "}\n",
    "\n",
    "for var in CRUTSConfig.variables_cts:\n",
    "    das = []\n",
    "    fps = sorted(glob(os.path.join(out_path, var, \"*.tif\")))\n",
    "    timestamps = []\n",
    "    lat = None\n",
    "    lon = None\n",
    "    arrs = []\n",
    "    for fp in tqdm(fps):\n",
    "        filename = os.path.basename(fp)\n",
    "\n",
    "        splitted = filename.replace(\".tif\", \"\").split(\"-\")\n",
    "        timestamp = \"-\".join(splitted[-3:])\n",
    "        timestamps.append(timestamp)\n",
    "\n",
    "        da = xr.open_rasterio(fp).rename(var)\n",
    "        if lat is None:\n",
    "            lat = da.y.data\n",
    "        if lon is None:\n",
    "            lon = da.x.data\n",
    "        arr = da.data\n",
    "        arrs.append(arr)\n",
    "\n",
    "    var_data = np.concatenate(arrs, axis=0)\n",
    "    time = pd.to_datetime(timestamps)\n",
    "    ds = xr.Dataset(\n",
    "        {\n",
    "            var: ((\"time\", \"lat\", \"lon\"), var_data),\n",
    "        },\n",
    "        {\"time\": time, \"lon\": lon, \"lat\": lat},\n",
    "        {\n",
    "            \"Conventions\": \"CF-1.4\",\n",
    "            \"title\": f\"CRU TS4.04 {var_to_variable[var]}\",\n",
    "            \"source\": \"Neural-Downscaling approach.\",\n",
    "            \"extent\": \"Europe. Based on ETRS89.\",\n",
    "        },\n",
    "    )\n",
    "    ds.to_netcdf(\n",
    "        os.path.join(nc_out_path, f\"cru_ts4.04.nn.inference.1901.2019.{var}.dat.nc\")\n",
    "    )"
   ],
   "metadata": {
    "collapsed": false,
    "pycharm": {
     "name": "#%%\n"
    }
   }
  },
  {
   "cell_type": "code",
   "execution_count": null,
   "outputs": [],
   "source": [],
   "metadata": {
    "collapsed": false,
    "pycharm": {
     "name": "#%%\n"
    }
   }
  }
 ],
 "metadata": {
  "kernelspec": {
   "display_name": "Python 3",
   "language": "python",
   "name": "python3"
  },
  "language_info": {
   "codemirror_mode": {
    "name": "ipython",
    "version": 2
   },
   "file_extension": ".py",
   "mimetype": "text/x-python",
   "name": "python",
   "nbconvert_exporter": "python",
   "pygments_lexer": "ipython2",
   "version": "2.7.6"
  }
 },
 "nbformat": 4,
 "nbformat_minor": 0
}
