{
 "cells": [
  {
   "cell_type": "code",
   "execution_count": 18,
   "metadata": {
    "collapsed": true
   },
   "outputs": [],
   "source": [
    "import logging\n",
    "import os\n",
    "import shutil\n",
    "from glob import glob\n",
    "from typing import Any, List, Tuple\n",
    "\n",
    "import cv2\n",
    "import dask.bag\n",
    "from distributed import Client\n",
    "from tqdm import tqdm\n",
    "\n",
    "logging.basicConfig(level=logging.INFO)\n",
    "\n",
    "\n",
    "def make_patches(\n",
    "    img_path_idx_tuple: Tuple[str, int],\n",
    "    target_path: str,\n",
    "    stage: str,\n",
    "    hr_image_size: int = 128,\n",
    "    lr_image_size: int = 32,\n",
    "    stride_hr: int = 4,\n",
    "    stride_lr: int = 1,\n",
    "    scaling_factor: int = 4,\n",
    ") -> None:\n",
    "    img_path, idx = img_path_idx_tuple\n",
    "    img = cv2.imread(img_path)\n",
    "\n",
    "    def generate(image: Any, image_size: int, stride: int, is_lr: bool):\n",
    "        h, w, channels = image.shape\n",
    "        num_row = h // stride\n",
    "        num_col = w // stride\n",
    "        image_index = 0\n",
    "\n",
    "        for i in range(num_row):\n",
    "            if (i + 1) * image_size > h:\n",
    "                break\n",
    "            for j in range(num_col):\n",
    "                if (j + 1) * image_size > w:\n",
    "                    break\n",
    "\n",
    "                path_to_img = os.path.join(\n",
    "                    target_path,\n",
    "                    stage,\n",
    "                    \"lr\" if is_lr else \"hr\",\n",
    "                    f'{str(idx).rjust(10, \"0\")}_{image_index}.png',\n",
    "                )\n",
    "\n",
    "                cv2.imwrite(\n",
    "                    path_to_img,\n",
    "                    image[\n",
    "                        i * image_size : (i + 1) * image_size,\n",
    "                        j * image_size : (j + 1) * image_size,\n",
    "                    ],\n",
    "                )\n",
    "                image_index = image_index + 1\n",
    "\n",
    "    # HR\n",
    "    generate(img, hr_image_size, stride_hr, False)\n",
    "\n",
    "    # LR\n",
    "    width = int(img.shape[1] / scaling_factor)\n",
    "    height = int(img.shape[0] / scaling_factor)\n",
    "    img = cv2.resize(img, (width, height), interpolation=cv2.INTER_CUBIC)\n",
    "    generate(img, lr_image_size, stride_lr, True)\n",
    "\n",
    "\n",
    "def make_center_crop(\n",
    "    img_path_idx_tuple: Tuple[str, int],\n",
    "    target_path: str,\n",
    "    stage: str,\n",
    "    hr_image_size: int = 128,\n",
    "    scaling_factor: int = 4,\n",
    ") -> None:\n",
    "    img_path, idx = img_path_idx_tuple\n",
    "    img = cv2.imread(img_path)\n",
    "\n",
    "    width, height = img.shape[1], img.shape[0]\n",
    "\n",
    "    # process crop width and height for max available dimension\n",
    "    crop_width = hr_image_size if hr_image_size < img.shape[1] else img.shape[1]\n",
    "    crop_height = hr_image_size if hr_image_size < img.shape[0] else img.shape[0]\n",
    "    mid_x, mid_y = int(width / 2), int(height / 2)\n",
    "    cw2, ch2 = int(crop_width / 2), int(crop_height / 2)\n",
    "    img_hr = img[mid_y - ch2 : mid_y + ch2, mid_x - cw2 : mid_x + cw2]\n",
    "\n",
    "    img_lr = cv2.resize(\n",
    "        img_hr,\n",
    "        (int(hr_image_size / scaling_factor), int(hr_image_size / scaling_factor)),\n",
    "        interpolation=cv2.INTER_CUBIC,\n",
    "    )\n",
    "\n",
    "    path_to_img_hr = os.path.join(\n",
    "        target_path, stage, \"hr\", f'{str(idx).rjust(6, \"0\")}.png'\n",
    "    )\n",
    "    path_to_img_lr = os.path.join(\n",
    "        target_path, stage, \"lr\", f'{str(idx).rjust(6, \"0\")}.png'\n",
    "    )\n",
    "\n",
    "    cv2.imwrite(path_to_img_hr, img_hr)\n",
    "    cv2.imwrite(path_to_img_lr, img_lr)\n",
    "\n",
    "\n",
    "def get_images(data_path: str) -> Tuple[List[str], List[str], List[str]]:\n",
    "    glob_images = [\n",
    "        glob(p, recursive=True)\n",
    "        for p in [\n",
    "            os.path.join(data_path, \"**\", ext)\n",
    "            for ext in [\n",
    "                \".jpeg\",\n",
    "                \"*.jpg\",\n",
    "                \"*.png\",\n",
    "                \".bmp\",\n",
    "                \".JPEG\",\n",
    "                \".JPG\",\n",
    "                \".PNG\",\n",
    "                \".BMP\",\n",
    "            ]\n",
    "        ]\n",
    "    ]\n",
    "    images = []\n",
    "    for img_list in glob_images:\n",
    "        images.extend(img_list)\n",
    "\n",
    "    logging.info(f\"Total of {len(images)} found under the {data_path}\")\n",
    "\n",
    "    train_hr_images = []\n",
    "    val_hr_images = []\n",
    "    test_hr_images = []\n",
    "\n",
    "    for img_path in tqdm(images):\n",
    "        if \"/val/\" in img_path:\n",
    "            val_hr_images.append(img_path)\n",
    "        elif \"/test/\" in img_path:\n",
    "            test_hr_images.append(img_path)\n",
    "        else:\n",
    "            train_hr_images.append(img_path)\n",
    "\n",
    "    logging.info(\n",
    "        f\"Train/Validation/Test split sizes: {len(train_hr_images)}/{len(val_hr_images)}/{len(test_hr_images)}\"\n",
    "    )\n",
    "\n",
    "    return sorted(train_hr_images), sorted(val_hr_images), sorted(test_hr_images)"
   ]
  },
  {
   "cell_type": "code",
   "execution_count": 21,
   "outputs": [],
   "source": [
    "data_dir = \"/media/xultaeculcis/2TB/datasets/sr/pre-training/classic/original\"\n",
    "target_dir = \"/media/xultaeculcis/2TB/datasets/sr/pre-training/classic\"\n",
    "scaling_factor = 4\n",
    "hr_image_size = 128\n",
    "lr_image_size = 32\n",
    "stride_hr = 100\n",
    "stride_lr = 25"
   ],
   "metadata": {
    "collapsed": false,
    "pycharm": {
     "name": "#%%\n"
    }
   }
  },
  {
   "cell_type": "code",
   "execution_count": 32,
   "outputs": [
    {
     "name": "stderr",
     "output_type": "stream",
     "text": [
      "INFO:root:Total of 17600 found under the /media/xultaeculcis/2TB/datasets/sr/pre-training/classic/original\n",
      "100%|██████████| 17600/17600 [00:00<00:00, 1829893.91it/s]\n",
      "INFO:root:Train/Validation/Test split sizes: 15914/924/762\n"
     ]
    }
   ],
   "source": [
    "os.makedirs(os.path.join(target_dir, \"train\", \"lr\"), exist_ok=True)\n",
    "os.makedirs(os.path.join(target_dir, \"train\", \"hr\"), exist_ok=True)\n",
    "os.makedirs(os.path.join(target_dir, \"val\", \"lr\"), exist_ok=True)\n",
    "os.makedirs(os.path.join(target_dir, \"val\", \"hr\"), exist_ok=True)\n",
    "os.makedirs(os.path.join(target_dir, \"test\", \"lr\"), exist_ok=True)\n",
    "os.makedirs(os.path.join(target_dir, \"test\", \"hr\"), exist_ok=True)\n",
    "\n",
    "train, val, test = get_images(data_dir)"
   ],
   "metadata": {
    "collapsed": false,
    "pycharm": {
     "name": "#%%\n"
    }
   }
  },
  {
   "cell_type": "code",
   "execution_count": 27,
   "outputs": [],
   "source": [
    "c = Client(n_workers=8, threads_per_worker=1)"
   ],
   "metadata": {
    "collapsed": false,
    "pycharm": {
     "name": "#%%\n"
    }
   }
  },
  {
   "cell_type": "code",
   "execution_count": 29,
   "outputs": [
    {
     "name": "stderr",
     "output_type": "stream",
     "text": [
      "INFO:root:Done with val dataset\n",
      "INFO:root:Done with train dataset\n"
     ]
    }
   ],
   "source": [
    "indices = [i for i in range(len(val))]\n",
    "items = zip(sorted(val), indices)\n",
    "_ = (\n",
    "    dask.bag.from_sequence(items)\n",
    "    .map(\n",
    "        make_center_crop,\n",
    "        target_path=target_dir,\n",
    "        stage=\"val\",\n",
    "        hr_image_size=hr_image_size,\n",
    "        scaling_factor=scaling_factor,\n",
    "    )\n",
    "    .compute()\n",
    ")\n",
    "logging.info(\"Done with val dataset\")\n",
    "\n",
    "indices = [i for i in range(len(train))]\n",
    "items = zip(sorted(train), indices)\n",
    "_ = (\n",
    "    dask.bag.from_sequence(items, npartitions=1000)\n",
    "    .map(\n",
    "        make_patches,\n",
    "        target_path=target_dir,\n",
    "        stage=\"train\",\n",
    "        hr_image_size=hr_image_size,\n",
    "        lr_image_size=lr_image_size,\n",
    "        stride_hr=stride_hr,\n",
    "        stride_lr=stride_lr,\n",
    "        scaling_factor=scaling_factor,\n",
    "    )\n",
    "    .compute()\n",
    ")\n",
    "logging.info(\"Done with train dataset\")"
   ],
   "metadata": {
    "collapsed": false,
    "pycharm": {
     "name": "#%%\n"
    }
   }
  },
  {
   "cell_type": "code",
   "execution_count": 30,
   "outputs": [],
   "source": [
    "# close only after the computation has finished\n",
    "c.close()"
   ],
   "metadata": {
    "collapsed": false,
    "pycharm": {
     "name": "#%%\n"
    }
   }
  },
  {
   "cell_type": "code",
   "execution_count": null,
   "outputs": [],
   "source": [
    "# In case of Fakap\n",
    "shutil.rmtree(os.path.join(target_dir, \"train\"))\n",
    "shutil.rmtree(os.path.join(target_dir, \"val\"))"
   ],
   "metadata": {
    "collapsed": false,
    "pycharm": {
     "name": "#%%\n"
    }
   }
  },
  {
   "cell_type": "code",
   "execution_count": 17,
   "outputs": [
    {
     "name": "stderr",
     "output_type": "stream",
     "text": [
      "tornado.application - ERROR - Uncaught exception GET /status/ws (::1)\n",
      "HTTPServerRequest(protocol='http', host='localhost:8787', method='GET', uri='/status/ws', version='HTTP/1.1', remote_ip='::1')\n",
      "Traceback (most recent call last):\n",
      "  File \"/home/xultaeculcis/anaconda3/envs/sr/lib/python3.8/site-packages/tornado/websocket.py\", line 954, in _accept_connection\n",
      "    open_result = handler.open(*handler.open_args, **handler.open_kwargs)\n",
      "  File \"/home/xultaeculcis/anaconda3/envs/sr/lib/python3.8/site-packages/tornado/web.py\", line 3173, in wrapper\n",
      "    return method(self, *args, **kwargs)\n",
      "  File \"/home/xultaeculcis/anaconda3/envs/sr/lib/python3.8/site-packages/bokeh/server/views/ws.py\", line 137, in open\n",
      "    raise ProtocolError(\"Token is expired.\")\n",
      "bokeh.protocol.exceptions.ProtocolError: Token is expired.\n"
     ]
    }
   ],
   "source": [
    "# For really big dataset use this instead\n",
    "c = Client(n_workers=8, threads_per_worker=2)\n",
    "\n",
    "images = glob(os.path.join(target_dir, \"train/**/*.png\"), recursive=True)\n",
    "\n",
    "_ = dask.bag.from_sequence(images, npartitions=10000).map(os.remove).compute()\n",
    "\n",
    "\n",
    "# close only after the delete operation has finished\n",
    "c.close()"
   ],
   "metadata": {
    "collapsed": false,
    "pycharm": {
     "name": "#%%\n"
    }
   }
  },
  {
   "cell_type": "code",
   "execution_count": 31,
   "outputs": [],
   "source": [
    "images = glob(os.path.join(target_dir, \"train/**/*.png\"), recursive=True)"
   ],
   "metadata": {
    "collapsed": false,
    "pycharm": {
     "name": "#%%\n"
    }
   }
  },
  {
   "cell_type": "code",
   "execution_count": null,
   "outputs": [],
   "source": [],
   "metadata": {
    "collapsed": false,
    "pycharm": {
     "name": "#%%\n"
    }
   }
  }
 ],
 "metadata": {
  "kernelspec": {
   "name": "pycharm-d1b00b73",
   "language": "python",
   "display_name": "PyCharm (super-resolution)"
  },
  "language_info": {
   "codemirror_mode": {
    "name": "ipython",
    "version": 2
   },
   "file_extension": ".py",
   "mimetype": "text/x-python",
   "name": "python",
   "nbconvert_exporter": "python",
   "pygments_lexer": "ipython2",
   "version": "2.7.6"
  }
 },
 "nbformat": 4,
 "nbformat_minor": 0
}
