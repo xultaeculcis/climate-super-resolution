{
 "cells": [
  {
   "cell_type": "code",
   "execution_count": 20,
   "metadata": {
    "collapsed": true
   },
   "outputs": [],
   "source": [
    "import logging\n",
    "import os\n",
    "import shutil\n",
    "from glob import glob\n",
    "from typing import List, Tuple, Any\n",
    "\n",
    "import cv2\n",
    "from distributed import Client\n",
    "from tqdm import tqdm\n",
    "\n",
    "logging.basicConfig(level=logging.INFO)\n",
    "\n",
    "\n",
    "def make_patches(\n",
    "        img_path: str,\n",
    "        idx: int,\n",
    "        target_path: str,\n",
    "        stage: str,\n",
    "        hr_image_size: int = 128,\n",
    "        lr_image_size: int = 32,\n",
    "        stride_hr: int = 4,\n",
    "        stride_lr: int = 1,\n",
    "        scaling_factor: int = 4,\n",
    ") -> None:\n",
    "    img = cv2.imread(img_path)\n",
    "\n",
    "    def generate(image: Any, image_size: int, stride: int, is_lr: bool):\n",
    "        h, w, channels = image.shape\n",
    "        num_row = h // stride\n",
    "        num_col = w // stride\n",
    "        image_index = 0\n",
    "\n",
    "        for i in range(num_row):\n",
    "            if (i + 1) * image_size > h:\n",
    "                break\n",
    "            for j in range(num_col):\n",
    "                if (j + 1) * image_size > w:\n",
    "                    break\n",
    "\n",
    "                path_to_img = os.path.join(\n",
    "                    target_path,\n",
    "                    stage,\n",
    "                    \"lr\" if is_lr else \"hr\",\n",
    "                    f'{idx}_{image_index}.png'\n",
    "                )\n",
    "\n",
    "                cv2.imwrite(\n",
    "                    path_to_img,\n",
    "                    image[i * image_size:(i + 1) * image_size, j * image_size:(j + 1) * image_size]\n",
    "                )\n",
    "                image_index = image_index + 1\n",
    "\n",
    "    # HR\n",
    "    generate(img, hr_image_size, stride_hr, False)\n",
    "\n",
    "    # LR\n",
    "    width = int(img.shape[1] / scaling_factor)\n",
    "    height = int(img.shape[0] / scaling_factor)\n",
    "    img = cv2.resize(img, (width, height), interpolation=cv2.INTER_CUBIC)\n",
    "    generate(img, lr_image_size, stride_lr, True)\n",
    "\n",
    "\n",
    "def make_center_crop(\n",
    "        img_path: str,\n",
    "        idx: int,\n",
    "        target_path: str,\n",
    "        stage: str,\n",
    "        hr_image_size: int = 128,\n",
    "        scaling_factor: int = 4,\n",
    ") -> None:\n",
    "    img = cv2.imread(img_path)\n",
    "\n",
    "    width, height = img.shape[1], img.shape[0]\n",
    "\n",
    "    # process crop width and height for max available dimension\n",
    "    crop_width = hr_image_size if hr_image_size<img.shape[1] else img.shape[1]\n",
    "    crop_height = hr_image_size if hr_image_size<img.shape[0] else img.shape[0]\n",
    "    mid_x, mid_y = int(width/2), int(height/2)\n",
    "    cw2, ch2 = int(crop_width/2), int(crop_height/2)\n",
    "    img_hr = img[mid_y-ch2:mid_y+ch2, mid_x-cw2:mid_x+cw2]\n",
    "\n",
    "    img_lr = cv2.resize(\n",
    "        img_hr,\n",
    "        (int(hr_image_size/scaling_factor), int(hr_image_size/scaling_factor)),\n",
    "        interpolation=cv2.INTER_CUBIC\n",
    "    )\n",
    "\n",
    "    path_to_img_hr = os.path.join(\n",
    "        target_path,\n",
    "        stage,\n",
    "        \"hr\",\n",
    "        f'{idx}.png'\n",
    "    )\n",
    "    path_to_img_lr = os.path.join(\n",
    "        target_path,\n",
    "        stage,\n",
    "        \"lr\",\n",
    "        f'{idx}.png'\n",
    "    )\n",
    "\n",
    "    cv2.imwrite(\n",
    "        path_to_img_hr,\n",
    "        img_hr\n",
    "    )\n",
    "    cv2.imwrite(\n",
    "        path_to_img_lr,\n",
    "        img_lr\n",
    "    )\n",
    "\n",
    "\n",
    "\n",
    "def get_images(data_path: str) -> Tuple[List[str], List[str], List[str]]:\n",
    "    glob_images = [\n",
    "        glob(p, recursive=True) for p in [\n",
    "            os.path.join(data_path, \"**\", ext) for ext in [\n",
    "                \".jpeg\", \"*.jpg\", \"*.png\", \".bmp\", \".JPEG\", \".JPG\", \".PNG\", \".BMP\"\n",
    "            ]\n",
    "        ]\n",
    "    ]\n",
    "    images = []\n",
    "    for img_list in glob_images:\n",
    "        images.extend(img_list)\n",
    "\n",
    "    logging.info(f\"Total of {len(images)} found under the {data_path}\")\n",
    "\n",
    "    train_hr_images = []\n",
    "    val_hr_images = []\n",
    "    test_hr_images = []\n",
    "\n",
    "    for img_path in tqdm(images):\n",
    "        if \"/val/\" in img_path:\n",
    "            val_hr_images.append(img_path)\n",
    "        elif \"/test/\" in img_path:\n",
    "            test_hr_images.append(img_path)\n",
    "        else:\n",
    "            train_hr_images.append(img_path)\n",
    "\n",
    "    logging.info(\n",
    "        f\"Train/Validation/Test split sizes: {len(train_hr_images)}/{len(val_hr_images)}/{len(test_hr_images)}\"\n",
    "    )\n",
    "\n",
    "    return train_hr_images, val_hr_images, test_hr_images\n"
   ]
  },
  {
   "cell_type": "code",
   "execution_count": 25,
   "outputs": [
    {
     "name": "stderr",
     "output_type": "stream",
     "text": [
      "INFO:root:Total of 371311 found under the /media/xultaeculcis/2TB/datasets/sr/original/pre-training/original_files/\n",
      "100%|██████████| 371311/371311 [00:00<00:00, 3148662.03it/s]\n",
      "INFO:root:Train/Validation/Test split sizes: 358355/9227/3729\n"
     ]
    }
   ],
   "source": [
    "data_dir = \"/media/xultaeculcis/2TB/datasets/sr/original/pre-training/original_files/\"\n",
    "target_dir = \"/media/xultaeculcis/2TB/datasets/sr/original/pre-training/\"\n",
    "scaling_factor = 4\n",
    "hr_image_size = 128\n",
    "lr_image_size = 32\n",
    "stride_hr = 100\n",
    "stride_lr = 25\n",
    "\n",
    "os.makedirs(os.path.join(target_dir, \"train\", \"lr\"), exist_ok=True)\n",
    "os.makedirs(os.path.join(target_dir, \"train\", \"hr\"), exist_ok=True)\n",
    "os.makedirs(os.path.join(target_dir, \"val\", \"lr\"), exist_ok=True)\n",
    "os.makedirs(os.path.join(target_dir, \"val\", \"hr\"), exist_ok=True)\n",
    "\n",
    "train, val, test = get_images(data_dir)"
   ],
   "metadata": {
    "collapsed": false,
    "pycharm": {
     "name": "#%%\n"
    }
   }
  },
  {
   "cell_type": "code",
   "execution_count": 34,
   "outputs": [],
   "source": [
    "c = Client(n_workers=8, threads_per_worker=1)"
   ],
   "metadata": {
    "collapsed": false,
    "pycharm": {
     "name": "#%%\n"
    }
   }
  },
  {
   "cell_type": "code",
   "execution_count": 35,
   "outputs": [
    {
     "data": {
      "text/plain": "<Client: 'tcp://127.0.0.1:44519' processes=8 threads=8, memory=33.69 GB>",
      "text/html": "<table style=\"border: 2px solid white;\">\n<tr>\n<td style=\"vertical-align: top; border: 0px solid white\">\n<h3 style=\"text-align: left;\">Client</h3>\n<ul style=\"text-align: left; list-style: none; margin: 0; padding: 0;\">\n  <li><b>Scheduler: </b>tcp://127.0.0.1:44519</li>\n  <li><b>Dashboard: </b><a href='http://127.0.0.1:8787/status' target='_blank'>http://127.0.0.1:8787/status</a></li>\n</ul>\n</td>\n<td style=\"vertical-align: top; border: 0px solid white\">\n<h3 style=\"text-align: left;\">Cluster</h3>\n<ul style=\"text-align: left; list-style:none; margin: 0; padding: 0;\">\n  <li><b>Workers: </b>8</li>\n  <li><b>Cores: </b>8</li>\n  <li><b>Memory: </b>33.69 GB</li>\n</ul>\n</td>\n</tr>\n</table>"
     },
     "execution_count": 35,
     "metadata": {},
     "output_type": "execute_result"
    }
   ],
   "source": [
    "c"
   ],
   "metadata": {
    "collapsed": false,
    "pycharm": {
     "name": "#%%\n"
    }
   }
  },
  {
   "cell_type": "code",
   "execution_count": 36,
   "outputs": [
    {
     "name": "stderr",
     "output_type": "stream",
     "text": [
      "100%|██████████| 9227/9227 [00:06<00:00, 1382.57it/s]\n"
     ]
    }
   ],
   "source": [
    "futures = []\n",
    "\n",
    "for num, image_path in tqdm(enumerate(sorted(train)), total=len(train)):\n",
    "    futures.append(\n",
    "        c.submit(\n",
    "            make_patches,\n",
    "            img_path=image_path,\n",
    "            idx=num,\n",
    "            target_path=target_dir,\n",
    "            stage=\"train\",\n",
    "            hr_image_size=hr_image_size,\n",
    "            lr_image_size=lr_image_size,\n",
    "            stride_hr=stride_hr,\n",
    "            stride_lr=stride_lr,\n",
    "            scaling_factor=scaling_factor,\n",
    "        )\n",
    "    )\n",
    "\n",
    "for num, image_path in tqdm(enumerate(sorted(val)), total=len(val)):\n",
    "    futures.append(\n",
    "        c.submit(\n",
    "            make_center_crop,\n",
    "            img_path=image_path,\n",
    "            idx=num,\n",
    "            target_path=target_dir,\n",
    "            stage=\"val\",\n",
    "            hr_image_size=hr_image_size,\n",
    "            scaling_factor=scaling_factor,\n",
    "        )\n",
    "    )\n",
    "\n",
    "results = c.compute(futures)\n"
   ],
   "metadata": {
    "collapsed": false,
    "pycharm": {
     "name": "#%%\n"
    }
   }
  },
  {
   "cell_type": "code",
   "execution_count": 37,
   "outputs": [],
   "source": [
    "# close only after the computation has finished\n",
    "c.close()"
   ],
   "metadata": {
    "collapsed": false,
    "pycharm": {
     "name": "#%%\n"
    }
   }
  },
  {
   "cell_type": "code",
   "execution_count": 8,
   "outputs": [],
   "source": [
    "# In case of Fakap\n",
    "shutil.rmtree(os.path.join(target_dir, \"train\"))\n",
    "shutil.rmtree(os.path.join(target_dir, \"val\"))"
   ],
   "metadata": {
    "collapsed": false,
    "pycharm": {
     "name": "#%%\n"
    }
   }
  },
  {
   "cell_type": "code",
   "execution_count": 33,
   "outputs": [],
   "source": [
    "# For really big dataset use this instead\n",
    "images = glob(os.path.join(target_dir, \"val/**/*.png\"), recursive=True)\n",
    "from dask import bag\n",
    "_ = bag.from_sequence(images).map(os.remove).compute()"
   ],
   "metadata": {
    "collapsed": false,
    "pycharm": {
     "name": "#%%\n"
    }
   }
  },
  {
   "cell_type": "code",
   "execution_count": null,
   "outputs": [],
   "source": [],
   "metadata": {
    "collapsed": false,
    "pycharm": {
     "name": "#%%\n"
    }
   }
  }
 ],
 "metadata": {
  "kernelspec": {
   "display_name": "Python 3",
   "language": "python",
   "name": "python3"
  },
  "language_info": {
   "codemirror_mode": {
    "name": "ipython",
    "version": 2
   },
   "file_extension": ".py",
   "mimetype": "text/x-python",
   "name": "python",
   "nbconvert_exporter": "python",
   "pygments_lexer": "ipython2",
   "version": "2.7.6"
  }
 },
 "nbformat": 4,
 "nbformat_minor": 0
}