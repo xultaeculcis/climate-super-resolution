{
 "cells": [
  {
   "cell_type": "code",
   "execution_count": 1,
   "metadata": {
    "execution": {
     "iopub.execute_input": "2021-02-27T22:00:01.134677Z",
     "iopub.status.busy": "2021-02-27T22:00:01.134365Z",
     "iopub.status.idle": "2021-02-27T22:00:01.654438Z",
     "shell.execute_reply": "2021-02-27T22:00:01.653975Z",
     "shell.execute_reply.started": "2021-02-27T22:00:01.134600Z"
    }
   },
   "outputs": [],
   "source": [
    "import os\n",
    "from glob import glob\n",
    "from typing import Dict, List, Optional, Tuple, Union\n",
    "\n",
    "import dask\n",
    "import dask.array as da\n",
    "import dask.bag\n",
    "import matplotlib.pyplot as plt\n",
    "import numpy as np\n",
    "from dask.diagnostics import ProgressBar\n",
    "from dask.distributed import Client\n",
    "from PIL import Image\n",
    "from tqdm import tqdm\n",
    "\n",
    "pbar = ProgressBar()\n",
    "pbar.register()\n",
    "\n",
    "\n",
    "%matplotlib inline\n",
    "\n",
    "data_dir = \"/media/xultaeculcis/2TB/datasets/sr/fine-tuning/wc/weather\"\n",
    "output_dir = os.path.join(data_dir, \"scaled\")"
   ]
  },
  {
   "cell_type": "code",
   "execution_count": 2,
   "metadata": {
    "execution": {
     "iopub.execute_input": "2021-02-27T22:00:01.655190Z",
     "iopub.status.busy": "2021-02-27T22:00:01.655079Z",
     "iopub.status.idle": "2021-02-27T22:00:01.701989Z",
     "shell.execute_reply": "2021-02-27T22:00:01.701450Z",
     "shell.execute_reply.started": "2021-02-27T22:00:01.655176Z"
    }
   },
   "outputs": [
    {
     "name": "stdout",
     "output_type": "stream",
     "text": [
      "/media/xultaeculcis/2TB/datasets/sr/fine-tuning/wc/weather/pre/**/*_2.5m*.tif\n",
      "/media/xultaeculcis/2TB/datasets/sr/fine-tuning/wc/weather/tmin/**/*_2.5m*.tif\n",
      "/media/xultaeculcis/2TB/datasets/sr/fine-tuning/wc/weather/tmax/**/*_2.5m*.tif\n"
     ]
    }
   ],
   "source": [
    "variables = [\n",
    "    \"pre\",\n",
    "    \"tmin\",\n",
    "    \"tmax\",\n",
    "]\n",
    "resolutions = [\"2.5m\"]\n",
    "\n",
    "\n",
    "def get_files(\n",
    "    data_dir: str, variables: List[str], resolutions: List[str]\n",
    ") -> Dict[str, Dict[str, List[str]]]:\n",
    "    results = {}\n",
    "    for var in variables:\n",
    "        results[var] = {}\n",
    "        for res in resolutions:\n",
    "            pattern = os.path.join(data_dir, var, \"**\", f\"*_{res}*.tif\")\n",
    "            print(pattern)\n",
    "            results[var][res] = sorted(glob(pattern, recursive=True))\n",
    "\n",
    "    return results\n",
    "\n",
    "\n",
    "fpaths = get_files(data_dir, variables, resolutions)"
   ]
  },
  {
   "cell_type": "code",
   "execution_count": 3,
   "metadata": {
    "collapsed": false,
    "execution": {
     "iopub.execute_input": "2021-02-27T22:00:02.404472Z",
     "iopub.status.busy": "2021-02-27T22:00:02.404212Z",
     "iopub.status.idle": "2021-02-27T22:00:02.412458Z",
     "shell.execute_reply": "2021-02-27T22:00:02.411895Z",
     "shell.execute_reply.started": "2021-02-27T22:00:02.404443Z"
    },
    "jupyter": {
     "outputs_hidden": false
    },
    "pycharm": {
     "name": "#%%\n"
    }
   },
   "outputs": [],
   "source": [
    "def plot_clim_from_file_path(img_path: str) -> None:\n",
    "    img = Image.open(img_path)\n",
    "    arr = np.array(img, dtype=np.float)\n",
    "    arr[arr == -32768] = np.nan\n",
    "\n",
    "    fig = plt.figure(figsize=(20, 8))\n",
    "    fig.suptitle(os.path.basename(img_path), fontsize=20)\n",
    "    ax = fig.add_subplot(1, 1, 1)\n",
    "    ax.set_aspect(\"equal\")\n",
    "    plt.imshow(arr, interpolation=\"nearest\", cmap=plt.cm.jet)\n",
    "    plt.colorbar()\n",
    "    plt.show()\n",
    "\n",
    "\n",
    "def plot_clim_from_array(arr: np.ndarray, title=\"\") -> None:\n",
    "    fig = plt.figure(figsize=(20, 8))\n",
    "    fig.suptitle(os.path.basename(title), fontsize=20)\n",
    "    ax = fig.add_subplot(1, 1, 1)\n",
    "    ax.set_aspect(\"equal\")\n",
    "    plt.imshow(arr, interpolation=\"nearest\", cmap=plt.cm.jet)\n",
    "    plt.colorbar()\n",
    "    plt.show()"
   ]
  },
  {
   "cell_type": "code",
   "execution_count": 4,
   "metadata": {
    "execution": {
     "iopub.execute_input": "2021-02-27T22:00:03.322710Z",
     "iopub.status.busy": "2021-02-27T22:00:03.322444Z",
     "iopub.status.idle": "2021-02-27T22:00:03.341999Z",
     "shell.execute_reply": "2021-02-27T22:00:03.341490Z",
     "shell.execute_reply.started": "2021-02-27T22:00:03.322681Z"
    }
   },
   "outputs": [],
   "source": [
    "class WorldClimScaler:\n",
    "    \"\"\"\n",
    "    The custom Min-Max scaler for the WorldClim dataset.\n",
    "    \"\"\"\n",
    "\n",
    "    def __init__(\n",
    "        self,\n",
    "    ):\n",
    "        self.feature_range = (0.0, 1.0)\n",
    "        self.lower_bound, self.upper_bound = self.feature_range\n",
    "        self.nan_replacement = 0.0\n",
    "\n",
    "    def fit(self, fpaths=List[str]) -> None:\n",
    "        self.fpaths = fpaths\n",
    "\n",
    "        def find_min_max(file_path: str) -> Tuple[float, float]:\n",
    "            img = Image.open(file_path)\n",
    "            arr = np.array(img, dtype=np.float)\n",
    "            arr[arr == -32768] = np.nan\n",
    "            xmin = np.nanmin(arr)\n",
    "            xmax = np.nanmax(arr)\n",
    "\n",
    "            return xmin, xmax\n",
    "\n",
    "        c = Client(n_workers=8, threads_per_worker=1)\n",
    "\n",
    "        results = (\n",
    "            dask.bag.from_sequence(self.fpaths, npartitions=len(self.fpaths))\n",
    "            .map(find_min_max)\n",
    "            .compute()\n",
    "        )\n",
    "\n",
    "        c.close()\n",
    "\n",
    "        current_min = 9999\n",
    "        current_max = -9999\n",
    "\n",
    "        for xmin, xmax in results:\n",
    "            if current_min > xmin:\n",
    "                current_min = xmin\n",
    "            if current_max < xmax:\n",
    "                current_max = xmax\n",
    "\n",
    "        self.org_data_min_ = current_min\n",
    "        self.org_data_max_ = current_max\n",
    "        self.data_min_ = current_min - 1\n",
    "        self.data_max_ = current_max + 1\n",
    "        self.data_range_ = self.data_max_ - self.data_min_\n",
    "        self.scale_ = (self.upper_bound - self.lower_bound) / self.data_range_\n",
    "        self.min_ = self.lower_bound - self.data_min_ * self.scale_\n",
    "\n",
    "    def transform_single(\n",
    "        self,\n",
    "        X: np.ndarray,\n",
    "    ) -> None:\n",
    "        X_std = (X - self.data_min_) / (self.data_max_ - self.data_min_)\n",
    "        X_scaled = X_std * (self.upper_bound - self.lower_bound) + self.lower_bound\n",
    "        X_scaled[np.isnan(X_scaled)] = self.nan_replacement\n",
    "        return X_scaled\n",
    "\n",
    "    def transform(self, fpaths: List[str], out_dir: str):\n",
    "        os.makedirs(out_dir, exist_ok=True)\n",
    "\n",
    "        def transform_(\n",
    "            fpath: str,\n",
    "            out_dir: str,\n",
    "            min_val: float,\n",
    "            max_val: float,\n",
    "            lower: Optional[float] = 0.0,\n",
    "            upper: Optional[float] = 1.0,\n",
    "            nan_replacement: Optional[float] = 0.0,\n",
    "        ) -> None:\n",
    "            im_name = os.path.basename(os.path.splitext(fpath)[0]) + \".tiff\"\n",
    "            if os.path.exists(im_name):\n",
    "                return\n",
    "            X = np.array(Image.open(fpath), dtype=np.float)\n",
    "            X_std = (X - self.data_min_) / (self.data_max_ - self.data_min_)\n",
    "            X_scaled = X_std * (self.upper_bound - self.lower_bound) + self.lower_bound\n",
    "            X_scaled[np.isnan(X_scaled)] = self.nan_replacement\n",
    "\n",
    "            im = Image.fromarray(X_scaled)\n",
    "            im.save(os.path.join(out_dir, im_name))\n",
    "\n",
    "        c = Client(n_workers=8, threads_per_worker=1)\n",
    "\n",
    "        results = (\n",
    "            dask.bag.from_sequence(fpaths, npartitions=len(fpaths))\n",
    "            .map(\n",
    "                transform_,\n",
    "                out_dir=out_dir,\n",
    "                min_val=self.data_min_,\n",
    "                max_val=self.data_max_,\n",
    "                lower=self.lower_bound,\n",
    "                upper=self.upper_bound,\n",
    "                nan_replacement=self.nan_replacement,\n",
    "            )\n",
    "            .compute()\n",
    "        )\n",
    "\n",
    "        c.close()\n",
    "\n",
    "    def fit_transform(self, fpaths: List[str], out_dir: str) -> None:\n",
    "        self.fit(fpaths)\n",
    "        self.transform(fpaths, out_dir)\n",
    "\n",
    "    def inverse_transform(self, X: np.ndarray) -> np.ndarray:\n",
    "        \"\"\"Undo the scaling of X according to feature_range.\"\"\"\n",
    "        X = X.copy()\n",
    "        X[X == 0.0] = np.nan\n",
    "        return X * (self.data_max_ - self.data_min_) + self.data_min_"
   ]
  },
  {
   "cell_type": "code",
   "execution_count": 5,
   "metadata": {
    "execution": {
     "iopub.execute_input": "2021-02-27T20:38:05.361469Z",
     "iopub.status.busy": "2021-02-27T20:38:05.361101Z",
     "iopub.status.idle": "2021-02-27T21:58:12.367335Z",
     "shell.execute_reply": "2021-02-27T21:58:12.365479Z",
     "shell.execute_reply.started": "2021-02-27T20:38:05.361438Z"
    }
   },
   "outputs": [],
   "source": [
    "for var in variables:\n",
    "    scaler = WorldClimScaler()\n",
    "    scaler.fit(fpaths=fpaths[var][\"2.5m\"])\n",
    "    scaler.transform(fpaths=fpaths[var][\"2.5m\"], out_dir=os.path.join(output_dir, var))"
   ]
  },
  {
   "cell_type": "code",
   "execution_count": 6,
   "metadata": {
    "execution": {
     "iopub.execute_input": "2021-02-27T22:04:32.910052Z",
     "iopub.status.busy": "2021-02-27T22:04:32.909771Z",
     "iopub.status.idle": "2021-02-27T22:04:38.921456Z",
     "shell.execute_reply": "2021-02-27T22:04:38.920648Z",
     "shell.execute_reply.started": "2021-02-27T22:04:32.910020Z"
    }
   },
   "outputs": [],
   "source": [
    "elev_files = glob(\n",
    "    \"/media/xultaeculcis/2TB/datasets/sr/fine-tuning/wc/elevation/*_2.5m*.tif\"\n",
    ")\n",
    "scaler = WorldClimScaler()\n",
    "scaler.fit(elev_files)\n",
    "scaler.transform(fpaths=elev_files, out_dir=os.path.join(output_dir, \"elev\"))"
   ]
  },
  {
   "cell_type": "code",
   "execution_count": null,
   "metadata": {},
   "outputs": [],
   "source": []
  }
 ],
 "metadata": {
  "kernelspec": {
   "display_name": "Python 3",
   "language": "python",
   "name": "python3"
  },
  "language_info": {
   "codemirror_mode": {
    "name": "ipython",
    "version": 3
   },
   "file_extension": ".py",
   "mimetype": "text/x-python",
   "name": "python",
   "nbconvert_exporter": "python",
   "pygments_lexer": "ipython3",
   "version": "3.8.5"
  }
 },
 "nbformat": 4,
 "nbformat_minor": 4
}
