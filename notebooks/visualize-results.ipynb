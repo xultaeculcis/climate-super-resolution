{
 "cells": [
  {
   "cell_type": "code",
   "execution_count": null,
   "metadata": {
    "tags": []
   },
   "outputs": [],
   "source": [
    "import sys\n",
    "\n",
    "print(\"Python %s on %s\" % (sys.version, sys.platform))\n",
    "sys.path.extend(\n",
    "    [\n",
    "        \"/home/xultaeculcis/repos/climate-super-resolution\",\n",
    "        \"/home/xultaeculcis/repos/climate-super-resolution/sr\",\n",
    "    ]\n",
    ")\n",
    "\n",
    "import os\n",
    "from dataclasses import dataclass\n",
    "from typing import List, Optional, Union\n",
    "\n",
    "import folium\n",
    "import matplotlib.pyplot as plt\n",
    "import numpy as np\n",
    "import pandas as pd\n",
    "import seaborn as sns\n",
    "import xarray as xr\n",
    "from pre_processing.cruts_config import CRUTSConfig\n",
    "from sklearn.metrics import mean_absolute_error, mean_squared_error"
   ]
  },
  {
   "cell_type": "markdown",
   "metadata": {
    "pycharm": {
     "name": "#%% md\n"
    }
   },
   "source": [
    "## Load data"
   ]
  },
  {
   "cell_type": "markdown",
   "metadata": {},
   "source": [
    "Load data from Tomasz. Each location is represented by 3 values (lat, lon, alt). We split them into separate arrays per\n",
    "feature for convenience."
   ]
  },
  {
   "cell_type": "code",
   "execution_count": null,
   "metadata": {
    "collapsed": false,
    "jupyter": {
     "outputs_hidden": false
    },
    "pycharm": {
     "name": "#%%\n"
    }
   },
   "outputs": [],
   "source": [
    "lats = [\n",
    "    51.0571888888889,\n",
    "    51.0422222222222,\n",
    "    50.7934805555556,\n",
    "    50.7901777777778,\n",
    "    50.4172222222222,\n",
    "    50.3986111111111,\n",
    "    50.4443333333333,\n",
    "    50.4421111111111,\n",
    "    50.7614722222222,\n",
    "    50.7603333333333,\n",
    "    50.8071111111111,\n",
    "    50.8091111111111,\n",
    "    50.81275,\n",
    "    50.7593611111111,\n",
    "    50.6729722222222,\n",
    "    50.6456666666667,\n",
    "    50.6971666666667,\n",
    "    50.8953611111111,\n",
    "    50.8190277777778,\n",
    "    50.8917222222222,\n",
    "    50.96025,\n",
    "    50.76033,\n",
    "    51.04222,\n",
    "]\n",
    "\n",
    "lons = [\n",
    "    15.478,\n",
    "    15.6838888888889,\n",
    "    15.6849972222222,\n",
    "    15.6788361111111,\n",
    "    16.48975,\n",
    "    16.4648611111111,\n",
    "    16.7188055555556,\n",
    "    16.7666388888889,\n",
    "    15.7469166666667,\n",
    "    15.7261388888889,\n",
    "    15.6083055555556,\n",
    "    15.5868611111111,\n",
    "    15.6107777777778,\n",
    "    15.7611666666667,\n",
    "    16.1326666666667,\n",
    "    16.3668333333333,\n",
    "    16.4656944444444,\n",
    "    15.6205,\n",
    "    15.5150555555556,\n",
    "    15.3588611111111,\n",
    "    15.4858888888889,\n",
    "    15.72614,\n",
    "    15.68389,\n",
    "]\n",
    "\n",
    "alts = [\n",
    "    402,\n",
    "    325,\n",
    "    646,\n",
    "    709,\n",
    "    486,\n",
    "    499,\n",
    "    486,\n",
    "    546,\n",
    "    825,\n",
    "    930,\n",
    "    726,\n",
    "    744,\n",
    "    620,\n",
    "    752,\n",
    "    604,\n",
    "    706,\n",
    "    658,\n",
    "    543,\n",
    "    717,\n",
    "    606,\n",
    "    469,\n",
    "    930,\n",
    "    325,\n",
    "]"
   ]
  },
  {
   "cell_type": "markdown",
   "metadata": {
    "pycharm": {
     "name": "#%% md\n"
    }
   },
   "source": [
    "Load Net-CDF datasets from CRU-TS and from our Super-Resolution NN."
   ]
  },
  {
   "cell_type": "code",
   "execution_count": null,
   "metadata": {
    "collapsed": false,
    "jupyter": {
     "outputs_hidden": false
    },
    "pycharm": {
     "name": "#%%\n"
    }
   },
   "outputs": [],
   "source": [
    "ds_temp_nn = xr.open_dataset(\n",
    "    \"/media/xultaeculcis/2TB/datasets/cruts/inference-europe-extent-nc/cru_ts4.04.nn.inference.1901.2019.tmp-combined.dat.nc\"\n",
    ")\n",
    "ds_tmin_nn = xr.open_dataset(\n",
    "    \"/media/xultaeculcis/2TB/datasets/cruts/inference-europe-extent-nc/cru_ts4.04.nn.inference.1901.2019.tmn.dat.nc\"\n",
    ")\n",
    "ds_tmax_nn = xr.open_dataset(\n",
    "    \"/media/xultaeculcis/2TB/datasets/cruts/inference-europe-extent-nc/cru_ts4.04.nn.inference.1901.2019.tmx.dat.nc\"\n",
    ")\n",
    "ds_temp_cru = xr.open_dataset(\n",
    "    \"/media/xultaeculcis/2TB/datasets/cruts/original/cru_ts4.04.1901.2019.tmp.dat.nc\"\n",
    ")\n",
    "ds_tmax_cru = xr.open_dataset(\n",
    "    \"/media/xultaeculcis/2TB/datasets/cruts/original/cru_ts4.04.1901.2019.tmx.dat.nc\"\n",
    ")\n",
    "ds_tmin_cru = xr.open_dataset(\n",
    "    \"/media/xultaeculcis/2TB/datasets/cruts/original/cru_ts4.04.1901.2019.tmn.dat.nc\"\n",
    ")"
   ]
  },
  {
   "cell_type": "markdown",
   "metadata": {},
   "source": [
    "Load 200 mountain peaks dataset."
   ]
  },
  {
   "cell_type": "code",
   "execution_count": null,
   "metadata": {
    "collapsed": false,
    "jupyter": {
     "outputs_hidden": false
    },
    "pycharm": {
     "name": "#%%\n"
    }
   },
   "outputs": [],
   "source": [
    "peaks = pd.read_csv(\"../datasets/mountain_peaks.csv\")"
   ]
  },
  {
   "cell_type": "markdown",
   "metadata": {
    "pycharm": {
     "name": "#%% md\n"
    }
   },
   "source": [
    "## Visualize data"
   ]
  },
  {
   "cell_type": "markdown",
   "metadata": {
    "pycharm": {
     "name": "#%% md\n"
    }
   },
   "source": [
    "Visualize data from Tomasz first."
   ]
  },
  {
   "cell_type": "code",
   "execution_count": null,
   "metadata": {
    "collapsed": false,
    "jupyter": {
     "outputs_hidden": false
    },
    "pycharm": {
     "name": "#%%\n"
    },
    "tags": []
   },
   "outputs": [],
   "source": [
    "f = folium.Figure(width=500, height=500)\n",
    "m = folium.Map(location=[lats[14], lons[14]], zoom_start=7)\n",
    "m.add_to(f)\n",
    "\n",
    "for idx, tup in enumerate(zip(lats, lons, alts)):\n",
    "    lat, lon, alt = tup\n",
    "    folium.Marker(\n",
    "        [lat, lon], tooltip=f\"Location #{str(idx).rjust(2, '0')} - alt: {alt}m\"\n",
    "    ).add_to(m)\n",
    "f"
   ]
  },
  {
   "cell_type": "markdown",
   "metadata": {
    "pycharm": {
     "name": "#%% md\n"
    }
   },
   "source": [
    "Now visualize the 200 peaks dataset."
   ]
  },
  {
   "cell_type": "code",
   "execution_count": null,
   "metadata": {
    "collapsed": false,
    "jupyter": {
     "outputs_hidden": false
    },
    "pycharm": {
     "name": "#%%\n"
    },
    "tags": []
   },
   "outputs": [],
   "source": [
    "f = folium.Figure(width=500, height=500)\n",
    "m = folium.Map(location=[50.200328, 19.770119], zoom_start=6)\n",
    "m.add_to(f)\n",
    "for idx, row in peaks.iterrows():\n",
    "    lat, lon, alt = (\n",
    "        row[\"lat\"],\n",
    "        row[\"lon\"],\n",
    "        row[\"altitude\"],\n",
    "    )\n",
    "    folium.Marker(\n",
    "        [lat, lon],\n",
    "        tooltip=f\"{row['mountain_range']} - {row['mountain_peak_name']} - alt: {alt}m\",\n",
    "    ).add_to(m)\n",
    "f"
   ]
  },
  {
   "cell_type": "markdown",
   "metadata": {
    "pycharm": {
     "name": "#%% md\n"
    }
   },
   "source": [
    "## Helper classes\n",
    "Lets define some helper classes to compute our metrics and visualize the time series results."
   ]
  },
  {
   "cell_type": "code",
   "execution_count": null,
   "metadata": {
    "collapsed": false,
    "jupyter": {
     "outputs_hidden": false
    },
    "pycharm": {
     "name": "#%%\n"
    },
    "tags": []
   },
   "outputs": [],
   "source": [
    "@dataclass\n",
    "class StatsResult:\n",
    "    minima: np.ndarray\n",
    "    means: np.ndarray\n",
    "    medians: np.ndarray\n",
    "    q25: np.ndarray\n",
    "    q50: np.ndarray\n",
    "    q75: np.ndarray\n",
    "    maxima: np.ndarray\n",
    "\n",
    "    @classmethod\n",
    "    def empty(cls, size):\n",
    "        return cls(\n",
    "            minima=np.zeros(size),\n",
    "            means=np.zeros(size),\n",
    "            medians=np.zeros(size),\n",
    "            q25=np.zeros(size),\n",
    "            q50=np.zeros(size),\n",
    "            q75=np.zeros(size),\n",
    "            maxima=np.zeros(size),\n",
    "        )\n",
    "\n",
    "\n",
    "@dataclass\n",
    "class CompareStatsResults:\n",
    "    stats_cru: StatsResult\n",
    "    stats_nn: StatsResult\n",
    "    var: str\n",
    "    ds_cru: xr.Dataset\n",
    "    ds_nn: xr.Dataset\n",
    "    time_range: pd.DatetimeIndex\n",
    "    lats: Union[List, np.ndarray]\n",
    "    lons: Union[List, np.ndarray]\n",
    "    alts: Union[List, np.ndarray]\n",
    "    names: Optional[Union[List, np.ndarray]]\n",
    "    mse: float\n",
    "    rmse: float\n",
    "    mae: float\n",
    "\n",
    "    @classmethod\n",
    "    def compute(cls, var, time_range, lats, lons, alts, ds_cru, ds_nn, names=None):\n",
    "        cru_stats = StatsResult.empty(len(lats))\n",
    "        nn_stats = StatsResult.empty(len(lats))\n",
    "\n",
    "        mae = np.zeros(len(lats))\n",
    "        mse = np.zeros(len(lats))\n",
    "        rmse = np.zeros(len(lats))\n",
    "\n",
    "        for idx, (lat, lon) in enumerate(zip(lats, lons)):\n",
    "            cru_data = ds_cru[var].sel(\n",
    "                lat=lat, lon=lon, time=time_range, method=\"nearest\"\n",
    "            )\n",
    "\n",
    "            cru_stats.q25[idx] = cru_data.quantile(0.25)\n",
    "            cru_stats.q50[idx] = cru_data.quantile(0.5)\n",
    "            cru_stats.q75[idx] = cru_data.quantile(0.75)\n",
    "            cru_stats.minima[idx] = cru_data.min()\n",
    "            cru_stats.maxima[idx] = cru_data.max()\n",
    "            cru_stats.means[idx] = cru_data.mean()\n",
    "            cru_stats.medians[idx] = cru_data.median()\n",
    "\n",
    "            nn_data = ds_nn[var].sel(\n",
    "                lat=lat, lon=lon, time=time_range, method=\"nearest\"\n",
    "            )\n",
    "\n",
    "            nn_stats.q25[idx] = nn_data.quantile(0.25)\n",
    "            nn_stats.q50[idx] = nn_data.quantile(0.5)\n",
    "            nn_stats.q75[idx] = nn_data.quantile(0.75)\n",
    "            nn_stats.minima[idx] = nn_data.min()\n",
    "            nn_stats.maxima[idx] = nn_data.max()\n",
    "            nn_stats.means[idx] = nn_data.mean()\n",
    "            nn_stats.medians[idx] = nn_data.median()\n",
    "\n",
    "            mae[idx] = mean_absolute_error(cru_data, nn_data)\n",
    "            mse[idx] = mean_squared_error(cru_data, nn_data)\n",
    "            rmse[idx] = mean_squared_error(cru_data, nn_data, squared=False)\n",
    "\n",
    "        return cls(\n",
    "            stats_cru=cru_stats,\n",
    "            stats_nn=nn_stats,\n",
    "            var=var,\n",
    "            ds_cru=ds_cru,\n",
    "            ds_nn=ds_nn,\n",
    "            time_range=time_range,\n",
    "            lats=lats,\n",
    "            lons=lons,\n",
    "            alts=alts,\n",
    "            names=names,\n",
    "            mae=mae.mean(),\n",
    "            mse=mse.mean(),\n",
    "            rmse=rmse.mean(),\n",
    "        )\n",
    "\n",
    "    def line_plot(self):\n",
    "        plt.figure(figsize=(15, 15))\n",
    "        ax = plt.subplot(1, 1, 1)\n",
    "        for idx, (lat, lon) in enumerate(zip(self.lats, self.lons)):\n",
    "            cru_data = self.ds_cru[self.var].sel(\n",
    "                lat=lat, lon=lon, time=self.time_range, method=\"nearest\"\n",
    "            )\n",
    "            nn_data = self.ds_nn[self.var].sel(\n",
    "                lat=lat, lon=lon, time=self.time_range, method=\"nearest\"\n",
    "            )\n",
    "            cru_data.plot(marker=\"x\", color=\"blue\", ax=ax)\n",
    "            nn_data.plot(marker=\"o\", color=\"orange\", ax=ax)\n",
    "\n",
    "        ax.set_title(\"Temperature comparison between CRU-TS and SR across time\")\n",
    "\n",
    "        plt.gca().legend((\"CRU-TS\", \"SR\"))\n",
    "        plt.show()\n",
    "\n",
    "    def box_plot(self):\n",
    "        plt.figure(figsize=(20, 10))\n",
    "        values = []\n",
    "        locations = []\n",
    "        sources = []\n",
    "\n",
    "        for idx, (lat, lon) in enumerate(zip(self.lats, self.lons)):\n",
    "            cru_data = self.ds_cru[self.var].sel(\n",
    "                lat=lat, lon=lon, time=self.time_range, method=\"nearest\"\n",
    "            )\n",
    "            nn_data = self.ds_nn[self.var].sel(\n",
    "                lat=lat, lon=lon, time=self.time_range, method=\"nearest\"\n",
    "            )\n",
    "\n",
    "            values.extend(cru_data.values.tolist())\n",
    "            values.extend(nn_data.values.tolist())\n",
    "            sources.extend([\"CRU-TS\" for _ in range(len(nn_data))])\n",
    "            sources.extend([\"SR\" for _ in range(len(nn_data))])\n",
    "\n",
    "            if self.names is None:\n",
    "                locations.extend(\n",
    "                    [\n",
    "                        f\"#{idx} - {self.alts[idx]} m\"\n",
    "                        for _ in range(len(nn_data) + len(cru_data))\n",
    "                    ]\n",
    "                )\n",
    "            else:\n",
    "                locations.extend(\n",
    "                    [\n",
    "                        f\"{self.names[idx]} - {self.alts[idx]} m\"\n",
    "                        for _ in range(len(nn_data) + len(cru_data))\n",
    "                    ]\n",
    "                )\n",
    "\n",
    "        df = pd.DataFrame(\n",
    "            data={\n",
    "                \"Location\": locations,\n",
    "                \"Data source\": sources,\n",
    "                \"Temperature (Celsius)\": values,\n",
    "            }\n",
    "        )\n",
    "        plt.figure(figsize=(np.maximum(0.25 * len(df[\"Location\"].unique()), 20), 10))\n",
    "        chart = sns.boxplot(\n",
    "            x=\"Location\", y=\"Temperature (Celsius)\", data=df, hue=\"Data source\"\n",
    "        )\n",
    "        chart.set_xticklabels(\n",
    "            chart.get_xticklabels(), rotation=45, horizontalalignment=\"right\"\n",
    "        )\n",
    "        plt.show()\n",
    "\n",
    "    def print_comparison_summary(self):\n",
    "        print(\n",
    "            f\"Avg min CTS: {self.stats_cru.minima.mean()}, \"\n",
    "            f\"NN: {self.stats_nn.minima.mean()}, \"\n",
    "            f\"diff: {(self.stats_cru.minima - self.stats_nn.minima).mean()}\"\n",
    "        )\n",
    "        print(\n",
    "            f\"Avg mean CTS: {self.stats_cru.means.mean()}, \"\n",
    "            f\"NN: {self.stats_nn.means.mean()}, \"\n",
    "            f\"diff: {(self.stats_cru.means - self.stats_nn.means).mean()}\"\n",
    "        )\n",
    "        print(\n",
    "            f\"Avg median CTS: {self.stats_cru.medians.mean()}, \"\n",
    "            f\"NN: {self.stats_nn.medians.mean()}, \"\n",
    "            f\"diff: {(self.stats_cru.medians - self.stats_nn.medians).mean()}\"\n",
    "        )\n",
    "        print(\n",
    "            f\"Avg max CTS: {self.stats_cru.maxima.mean()}, \"\n",
    "            f\"NN: {self.stats_nn.maxima.mean()}, \"\n",
    "            f\"diff: {(self.stats_cru.maxima - self.stats_nn.maxima).mean()}\"\n",
    "        )\n",
    "        print(\n",
    "            f\"Avg q25 CTS: {self.stats_cru.q25.mean()}, \"\n",
    "            f\"NN: {self.stats_nn.q25.mean()}, \"\n",
    "            f\"diff: {(self.stats_cru.q25 - self.stats_nn.q25).mean()}\"\n",
    "        )\n",
    "        print(\n",
    "            f\"Avg q50 CTS: {self.stats_cru.q50.mean()}, \"\n",
    "            f\"NN: {self.stats_nn.q50.mean()}, \"\n",
    "            f\"diff: {(self.stats_cru.q50 - self.stats_nn.q50).mean()}\"\n",
    "        )\n",
    "        print(\n",
    "            f\"Avg q75 CTS: {self.stats_cru.q75.mean()}, \"\n",
    "            f\"NN: {self.stats_nn.q75.mean()}, \"\n",
    "            f\"diff: {(self.stats_cru.q75 - self.stats_nn.q75).mean()}\"\n",
    "        )\n",
    "        print(f\"Mean Absolute Error between CRU-TS and SR-NN: {self.mae}\")\n",
    "        print(f\"Mean Squared Error between CRU-TS and SR-NN: {self.mse}\")\n",
    "        print(f\"Root Mean Squared Error between CRU-TS and SR-NN: {self.rmse}\")"
   ]
  },
  {
   "cell_type": "markdown",
   "metadata": {
    "pycharm": {
     "name": "#%% md\n"
    }
   },
   "source": [
    "## Compute statistics\n",
    "\n",
    "Now, lets compute some stats to compare our NN to CRU-TS.\n",
    "\n",
    "### Data from Tomasz"
   ]
  },
  {
   "cell_type": "code",
   "execution_count": null,
   "metadata": {
    "collapsed": false,
    "jupyter": {
     "outputs_hidden": false
    },
    "pycharm": {
     "name": "#%%\n"
    },
    "tags": []
   },
   "outputs": [],
   "source": [
    "may_only = pd.date_range(\n",
    "    ds_temp_cru[\"time\"][5].values, ds_temp_cru[\"time\"][-1].values, freq=\"AS-MAY\"\n",
    ")\n",
    "\n",
    "results = CompareStatsResults.compute(\n",
    "    CRUTSConfig.tmp, may_only, lats, lons, alts, ds_temp_cru, ds_temp_nn\n",
    ")\n",
    "results.print_comparison_summary()\n",
    "results.line_plot()\n",
    "results.box_plot()"
   ]
  },
  {
   "cell_type": "markdown",
   "metadata": {
    "pycharm": {
     "name": "#%% md\n"
    }
   },
   "source": [
    "Data generated from our NN follows CRU-TS very closely. On average, it produces data that has slightly higher\n",
    "value (negative differences). RMSE=0.54"
   ]
  },
  {
   "cell_type": "markdown",
   "metadata": {
    "pycharm": {
     "name": "#%% md\n"
    }
   },
   "source": [
    "### Mountain peaks dataset\n",
    "Let's see how our NN compares with CRU-TS when the sample size is increased."
   ]
  },
  {
   "cell_type": "code",
   "execution_count": null,
   "metadata": {
    "collapsed": false,
    "jupyter": {
     "outputs_hidden": false
    },
    "pycharm": {
     "is_executing": true,
     "name": "#%%\n"
    },
    "tags": []
   },
   "outputs": [],
   "source": [
    "results = CompareStatsResults.compute(\n",
    "    CRUTSConfig.tmp,\n",
    "    may_only,\n",
    "    peaks[\"lat\"].values,\n",
    "    peaks[\"lon\"].values,\n",
    "    peaks[\"altitude\"].values,\n",
    "    ds_temp_cru,\n",
    "    ds_temp_nn,\n",
    "    peaks[\"mountain_peak_name\"].values,\n",
    ")\n",
    "results.print_comparison_summary()\n",
    "results.line_plot()\n",
    "results.box_plot()"
   ]
  },
  {
   "cell_type": "markdown",
   "metadata": {
    "pycharm": {
     "name": "#%% md\n"
    }
   },
   "source": [
    "The situation is similar with the larger dataset. Bigger sample size shows that our NN actually produces coolder data points in comparison with CRU-TS. \n",
    "This is the behaviour that we expected. Our NN is still on average, producing a bit higher output than what we get from CRU-TS. RMSE=0.63."
   ]
  },
  {
   "cell_type": "code",
   "execution_count": null,
   "metadata": {},
   "outputs": [],
   "source": [
    "results = CompareStatsResults.compute(\n",
    "    CRUTSConfig.tmn,\n",
    "    may_only,\n",
    "    peaks[\"lat\"].values,\n",
    "    peaks[\"lon\"].values,\n",
    "    peaks[\"altitude\"].values,\n",
    "    ds_tmin_cru,\n",
    "    ds_tmin_nn,\n",
    "    peaks[\"mountain_peak_name\"].values,\n",
    ")\n",
    "results.print_comparison_summary()\n",
    "results.line_plot()\n",
    "results.box_plot()"
   ]
  },
  {
   "cell_type": "markdown",
   "metadata": {},
   "source": [
    "When it comes to the NN model trained only on **tmn** data, it produces data points that are also cooler than CRU-TS. However this time we have a lot more outliers on both ends of the temperature spectrum."
   ]
  },
  {
   "cell_type": "code",
   "execution_count": null,
   "metadata": {},
   "outputs": [],
   "source": [
    "results = CompareStatsResults.compute(\n",
    "    CRUTSConfig.tmx,\n",
    "    may_only,\n",
    "    peaks[\"lat\"].values,\n",
    "    peaks[\"lon\"].values,\n",
    "    peaks[\"altitude\"].values,\n",
    "    ds_tmax_cru,\n",
    "    ds_tmax_nn,\n",
    "    peaks[\"mountain_peak_name\"].values,\n",
    ")\n",
    "results.print_comparison_summary()\n",
    "results.line_plot()\n",
    "results.box_plot()"
   ]
  },
  {
   "cell_type": "markdown",
   "metadata": {},
   "source": [
    "The model trained on only **tmx** data presents the biggest differences between CRU-TS. The RMSE is the biggest of the 3 models - RMSE=0.71. \n",
    "The overall trend of the model is to produce on average slightly coolder datapoints - this is expected behaviour.  "
   ]
  },
  {
   "cell_type": "markdown",
   "metadata": {
    "pycharm": {
     "name": "#%% md\n"
    }
   },
   "source": [
    "### Only two locations\n",
    "Let's focus on only two locations one having elevation of 325m and the other of 930m. We'll go through:\n",
    "1. predictions generated by model trained on combined tmn and tmx data\n",
    "2. predictions generated by model trained on only tmn data\n",
    "3. predictions generated by model trained on only tmx data"
   ]
  },
  {
   "cell_type": "code",
   "execution_count": null,
   "metadata": {},
   "outputs": [],
   "source": [
    "f = folium.Figure(width=500, height=500)\n",
    "m = folium.Map(location=[lats[-1], lons[-1]], zoom_start=9)\n",
    "m.add_to(f)\n",
    "\n",
    "for idx, tup in enumerate(zip(lats[-2:], lons[-2:], alts[-2:])):\n",
    "    lat, lon, alt = tup\n",
    "    folium.Marker(\n",
    "        [lat, lon], tooltip=f\"Location #{str(idx).rjust(2, '0')} - alt: {alt}m\"\n",
    "    ).add_to(m)\n",
    "f"
   ]
  },
  {
   "cell_type": "code",
   "execution_count": null,
   "metadata": {
    "collapsed": false,
    "jupyter": {
     "outputs_hidden": false
    },
    "pycharm": {
     "is_executing": true,
     "name": "#%%\n"
    }
   },
   "outputs": [],
   "source": [
    "results = CompareStatsResults.compute(\n",
    "    CRUTSConfig.tmp, may_only, lats[-2:], lons[-2:], alts[-2:], ds_temp_cru, ds_temp_nn\n",
    ")\n",
    "results.print_comparison_summary()\n",
    "results.line_plot()\n",
    "results.box_plot()"
   ]
  },
  {
   "cell_type": "markdown",
   "metadata": {
    "pycharm": {
     "name": "#%% md\n"
    }
   },
   "source": [
    "For the **tmp** data - you can see our model produces data points that are between the CRU-TS data points. Model follows very closely the\n",
    "325m data points (although it tends to produce slightly cooler data points). However, for the 930m elevation it\n",
    "produces data points that are slightly warmer. Our assumption was that it will do the opposite."
   ]
  },
  {
   "cell_type": "code",
   "execution_count": null,
   "metadata": {
    "collapsed": false,
    "jupyter": {
     "outputs_hidden": false
    },
    "pycharm": {
     "is_executing": true,
     "name": "#%%\n"
    }
   },
   "outputs": [],
   "source": [
    "results = CompareStatsResults.compute(\n",
    "    CRUTSConfig.tmn, may_only, lats[-2:], lons[-2:], alts[-2:], ds_tmin_cru, ds_tmin_nn\n",
    ")\n",
    "results.print_comparison_summary()\n",
    "results.line_plot()\n",
    "results.box_plot()"
   ]
  },
  {
   "cell_type": "markdown",
   "metadata": {
    "pycharm": {
     "name": "#%% md\n"
    }
   },
   "source": [
    "The RMSE for the **tmn** model (notice that we are checking on tmn CRU-TS dataset) is much lower that for the model trained\n",
    "on combined data. The 325m elevation data poins are almost spot on when compared with CRU-TS."
   ]
  },
  {
   "cell_type": "code",
   "execution_count": null,
   "metadata": {
    "collapsed": false,
    "jupyter": {
     "outputs_hidden": false
    },
    "pycharm": {
     "is_executing": true,
     "name": "#%%\n"
    }
   },
   "outputs": [],
   "source": [
    "results = CompareStatsResults.compute(\n",
    "    CRUTSConfig.tmx, may_only, lats[-2:], lons[-2:], alts[-2:], ds_tmax_cru, ds_tmax_nn\n",
    ")\n",
    "results.print_comparison_summary()\n",
    "results.line_plot()\n",
    "results.box_plot()"
   ]
  },
  {
   "cell_type": "markdown",
   "metadata": {
    "pycharm": {
     "name": "#%% md\n"
    }
   },
   "source": [
    "The RMSE is the only slightly lower than that of the model trained on both **tmn** and **tmx** data. The model still has a tendency to produce slightly higher data\n",
    "points for the 930m elevation."
   ]
  },
  {
   "cell_type": "code",
   "execution_count": null,
   "metadata": {},
   "outputs": [],
   "source": []
  }
 ],
 "metadata": {
  "kernelspec": {
   "display_name": "Python 3",
   "language": "python",
   "name": "python3"
  },
  "language_info": {
   "codemirror_mode": {
    "name": "ipython",
    "version": 3
   },
   "file_extension": ".py",
   "mimetype": "text/x-python",
   "name": "python",
   "nbconvert_exporter": "python",
   "pygments_lexer": "ipython3",
   "version": "3.8.8"
  }
 },
 "nbformat": 4,
 "nbformat_minor": 4
}
